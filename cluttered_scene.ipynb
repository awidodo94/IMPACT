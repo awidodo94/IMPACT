{
 "cells": [
  {
   "cell_type": "code",
   "execution_count": 1,
   "metadata": {},
   "outputs": [],
   "source": [
    "# Import some basic libraries and functions for this tutorial.\n",
    "import numpy as np\n",
    "import os\n",
    "\n",
    "from pydrake.common import temp_directory\n",
    "from pydrake.geometry import StartMeshcat\n",
    "from pydrake.math import RigidTransform, RollPitchYaw\n",
    "from pydrake.multibody.parsing import Parser\n",
    "from pydrake.multibody.plant import AddMultibodyPlantSceneGraph\n",
    "from pydrake.systems.analysis import Simulator\n",
    "from pydrake.systems.framework import DiagramBuilder\n",
    "from pydrake.visualization import AddDefaultVisualization, ModelVisualizer"
   ]
  },
  {
   "cell_type": "markdown",
   "metadata": {},
   "source": [
    "## Meshcat for Visualization"
   ]
  },
  {
   "cell_type": "code",
   "execution_count": 2,
   "metadata": {},
   "outputs": [
    {
     "name": "stderr",
     "output_type": "stream",
     "text": [
      "INFO:drake:Meshcat listening for connections at http://localhost:7000\n"
     ]
    }
   ],
   "source": [
    "meshcat = StartMeshcat()\n",
    "\n",
    "# When this notebook is run in test mode it needs to stop execution without\n",
    "# user interaction. For interactive model visualization you won't normally\n",
    "# need the 'loop_once' flag.\n",
    "test_mode = True if \"TEST_SRCDIR\" in os.environ else False"
   ]
  },
  {
   "cell_type": "markdown",
   "metadata": {},
   "source": [
    "## Initial setup "
   ]
  },
  {
   "cell_type": "markdown",
   "metadata": {},
   "source": [
    "The following scripts look for a directorty containing directories of google scanned object data and then generates the necessary files and randomly initializes positions within a specified radius of the origin. \n",
    "\n",
    "To add more objects to the scene, simply download the zip files from [Google Scanned Objects](https://app.gazebosim.org/GoogleResearch/fuel/collections/Scanned%20Objects%20by%20Google%20Research). Then run the following bash script from within the directory containing only the zip files. \n",
    "\n",
    "**Note 1:** that you'll ultimately place `~/tmp/OBJECTS` in the `IMPACT` directory. \n",
    "\n",
    "**Note 2:** this script assumes that the `IMPACT` directory is in the user's home directory. Modify accordingly. \n",
    "\n"
   ]
  },
  {
   "cell_type": "markdown",
   "metadata": {},
   "source": [
    "```bash\n",
    "#!/usr/bin/env bash\n",
    "mkdir ~/tmp\n",
    "mkdir ~/tmp/OBJECTS\n",
    "echo name,sdf_file,mass_kg,x_init,y_init,z_init,roll_init,pitch_init,yaw_init >> ~/tmp/object_manifest.csv\n",
    "for i in $(ls zippers|sed 's/.zip//'); do  \n",
    "    mkdir ~/tmp/OBJECTS/$i; \n",
    "    unzip -d ~/tmp/OBJECTS/$i zippers/$i.zip; \n",
    "    echo \"$i\",\"$HOME/IMPACT/OBJECTS/$i/model.sdf\",mass,x,y,z,roll,pitch,yaw >> ~/tmp/object_manifest.csv; \n",
    "    cp ~/tmp/OBJECTS/$i/materials/textures/texture.png ~/tmp/OBJECTS/$i/meshes; \n",
    "done\n",
    "```"
   ]
  },
  {
   "cell_type": "markdown",
   "metadata": {},
   "source": [
    "### Place objects\n",
    "Given a directory of object directories and a clutter radius randomly place the objects and set their masses\n",
    "\n",
    "```python\n",
    "def update_object_manifest(csv_file, radius):\n",
    "```"
   ]
  },
  {
   "cell_type": "code",
   "execution_count": 3,
   "metadata": {},
   "outputs": [],
   "source": [
    "import pandas as pd\n",
    "import numpy as np\n",
    "import os\n",
    "\n",
    "MANIFEST_PATH = \"manifests\"  # Replace with the actual path to the manifests\n",
    "\n",
    "def update_object_manifest(csv_file, radius):\n",
    "    # Read the object manifest CSV file\n",
    "    df = pd.read_csv(csv_file)\n",
    "    \n",
    "    # Generate random initial positions within the specified radius\n",
    "    num_objects = len(df)\n",
    "    x_init = np.random.uniform(low=-radius, high=radius, size=num_objects)\n",
    "    y_init = np.random.uniform(low=-radius, high=radius, size=num_objects)\n",
    "    z_init = np.zeros(num_objects)\n",
    "    \n",
    "    # Generate random initial orientations\n",
    "    roll_init = np.random.uniform(low=-np.pi, high=np.pi, size=num_objects)\n",
    "    pitch_init = np.random.uniform(low=-np.pi, high=np.pi, size=num_objects)\n",
    "    yaw_init = np.random.uniform(low=-np.pi, high=np.pi, size=num_objects)\n",
    "    \n",
    "    # Generate random mass values between 0.5 and 10 with 0.1 kg increments\n",
    "    mass_kg = np.arange(0.5, 10.1, 0.1)\n",
    "    mass_kg = np.random.choice(mass_kg, size=num_objects)\n",
    "    \n",
    "    # Update the dataframe with the new values\n",
    "    df['x_init'] = x_init\n",
    "    df['y_init'] = y_init\n",
    "    df['z_init'] = z_init\n",
    "    df['roll_init'] = roll_init\n",
    "    df['pitch_init'] = pitch_init\n",
    "    df['yaw_init'] = yaw_init\n",
    "    df['mass_kg'] = mass_kg\n",
    "    \n",
    "    largest_manifest = -1\n",
    "    manifest_files = [filename for filename in os.listdir(MANIFEST_PATH) if filename.endswith(\"_object_manifest.csv\")]\n",
    "    if manifest_files:\n",
    "        largest_manifest = max([int(filename.split(\"_\")[0]) for filename in manifest_files])\n",
    "\n",
    "    new_manifest_number = largest_manifest + 1\n",
    "    new_csv_file = os.path.join(MANIFEST_PATH, f\"{str(new_manifest_number).zfill(2)}_object_manifest.csv\")\n",
    "\n",
    "    # Save the updated dataframe to the new CSV file\n",
    "    df.to_csv(new_csv_file, index=False)\n",
    "\n",
    "    new_csv_file\n",
    "    largest_manifest = max([int(filename.split(\"_\")[0]) for filename in os.listdir(MANIFEST_PATH) if filename.endswith(\"_object_manifest.csv\")])\n",
    "    new_manifest_number = largest_manifest + 1\n",
    "    new_csv_file = os.path.join(MANIFEST_PATH, f\"{str(new_manifest_number).zfill(2)}_object_manifest.csv\")\n",
    "    \n",
    "    # Save the updated dataframe to the new CSV file\n",
    "    df.to_csv(new_csv_file, index=False)\n",
    "    \n",
    "    return new_csv_file\n"
   ]
  },
  {
   "cell_type": "markdown",
   "metadata": {},
   "source": [
    "### Generate SDF files\n",
    "Given a manifest of objects, generate a SDF file for each object.\n",
    "\n",
    "```python\n",
    "def replace_sdf_files(manifest_csv):\n",
    "```"
   ]
  },
  {
   "cell_type": "code",
   "execution_count": 4,
   "metadata": {},
   "outputs": [],
   "source": [
    "SDF_TEMPLATE = \"\"\"<sdf version='1.6'>\n",
    "  <model name='{OBJECT}'>\n",
    "    <link name='{OBJECT}_link'>\n",
    "      <!-- Inertial properties -->\n",
    "      <!-- Mass of the {OBJECT} in kilograms -->\n",
    "      <inertial>\n",
    "        <mass>{OBJ_MASS}</mass> <!-- Approximate mass -->\n",
    "        <!-- Inertia tensor components; these are estimated values for a roughly symmetric object -->\n",
    "        <!-- The actual values depend on the specific distribution of mass in the {OBJECT} -->\n",
    "        <inertia>\n",
    "          <ixx>0.0002</ixx> <!-- Moment of inertia about the X-axis -->\n",
    "          <iyy>0.0002</iyy> <!-- Moment of inertia about the Y-axis -->\n",
    "          <izz>0.0002</izz> <!-- Moment of inertia about the Z-axis -->\n",
    "          <ixy>0</ixy>      <!-- Product of inertia (likely zero for a symmetric object) -->\n",
    "          <ixz>0</ixz>\n",
    "          <iyz>0</iyz>\n",
    "        </inertia>\n",
    "      </inertial>\n",
    "\n",
    "      <!-- Visual properties (appearance of the teapot) -->\n",
    "      <visual name='teapot_visual'>\n",
    "        <geometry>\n",
    "          <mesh>\n",
    "            <uri>file:///home/jarret/IMPACT/OBJECTS/{OBJECT}/meshes/model.obj</uri> <!-- Path to the OBJ file -->\n",
    "            <scale>1 1 1</scale> <!-- Adjust scale if necessary -->\n",
    "          </mesh>\n",
    "        </geometry>\n",
    "        <!-- Optional material properties like color, texture -->\n",
    "      </visual>\n",
    "\n",
    "      <!-- Collision properties -->\n",
    "      <!-- Using the same geometry for collision; consider simplifying for complex shapes -->\n",
    "      <collision name='{OBJECT}_collision'>\n",
    "        <geometry>\n",
    "          <mesh>\n",
    "            <uri>file:///home/jarret/IMPACT/OBJECTS/{OBJECT}/meshes/model.obj</uri>\n",
    "            <scale>1 1 1</scale>\n",
    "          </mesh>\n",
    "        </geometry>\n",
    "      </collision>\n",
    "    </link>\n",
    "  </model>\n",
    "</sdf>\n",
    "\"\"\""
   ]
  },
  {
   "cell_type": "code",
   "execution_count": 5,
   "metadata": {},
   "outputs": [],
   "source": [
    "import os\n",
    "\n",
    "def replace_sdf_files(manifest_csv):\n",
    "    # Read the object manifest CSV file\n",
    "    df = pd.read_csv(manifest_csv)\n",
    "    \n",
    "    # Iterate over each row in the dataframe\n",
    "    for index, row in df.iterrows():\n",
    "        # Get the object name and mass from the manifest\n",
    "        object_name = row['name']\n",
    "        obj_mass = row['mass_kg']\n",
    "        \n",
    "        # Get the current SDF file path\n",
    "        sdf_file = row['sdf_file']\n",
    "        \n",
    "        # Delete the current SDF file if it exists\n",
    "        if os.path.exists(sdf_file):\n",
    "            os.remove(sdf_file)\n",
    "        \n",
    "        # Generate the SDF content by replacing the placeholders in the SDF_TEMPLATE string\n",
    "        sdf_content = SDF_TEMPLATE.format(OBJECT=object_name, OBJ_MASS=obj_mass)\n",
    "        \n",
    "        # Write the SDF content to a new file\n",
    "        with open(sdf_file, 'w') as file:\n",
    "            file.write(sdf_content)"
   ]
  },
  {
   "cell_type": "markdown",
   "metadata": {},
   "source": [
    "## Creating the Scene from a Manifest\n",
    "\n",
    "```python\n",
    "def generate_scene_from_manifest(manifest_csv, sim_time_step):\n",
    "```"
   ]
  },
  {
   "cell_type": "markdown",
   "metadata": {},
   "source": [
    "Given a manifest file, generate the corresponding scene graph"
   ]
  },
  {
   "cell_type": "code",
   "execution_count": 6,
   "metadata": {},
   "outputs": [],
   "source": [
    "def generate_scene_from_manifest(manifest_csv, sim_time_step):\n",
    "    # Create MultibodyPlant and SceneGraph\n",
    "    builder = DiagramBuilder()\n",
    "    plant, scene_graph = AddMultibodyPlantSceneGraph(builder, time_step=sim_time_step)\n",
    "    \n",
    "    # Create Parser\n",
    "    parser = Parser(plant)\n",
    "    \n",
    "    # Read the object manifest CSV file\n",
    "    df = pd.read_csv(manifest_csv)\n",
    "    \n",
    "    # Randomly select 20 objects from the manifest\n",
    "    selected_objects = df.sample(n=min(10, len(df)))\n",
    "\n",
    "    # Create a KUKA iiwa arm\n",
    "    # iiwa7_model_url = (\n",
    "    #     \"package://drake/manipulation/models/\"\n",
    "    #     \"iiwa_description/iiwa7/iiwa7_with_box_collision.sdf\")\n",
    "    # parser.AddModels(url=iiwa7_model_url)\n",
    "    \n",
    "    for index, row in selected_objects.iterrows():\n",
    "        # Get the SDF file path from the manifest\n",
    "        sdf_file = row['sdf_file']\n",
    "        \n",
    "        # Add the SDF file to the parser\n",
    "        parser.AddModels(sdf_file)\n",
    "        \n",
    "        # Get the initial position from the manifest\n",
    "        x_init = row['x_init']\n",
    "        y_init = row['y_init']\n",
    "        z_init = row['z_init']\n",
    "        roll_init = row['roll_init']\n",
    "        pitch_init = row['pitch_init']\n",
    "        yaw_init = row['yaw_init']\n",
    "        \n",
    "        # Create a RigidTransform for the initial position\n",
    "        X_WO = RigidTransform(\n",
    "            RollPitchYaw(roll_init, pitch_init, yaw_init),\n",
    "            [x_init, y_init, z_init]\n",
    "        )\n",
    "        \n",
    "        # Add the object to the MultibodyPlant\n",
    "        plant.WeldFrames(\n",
    "            plant.world_frame(),\n",
    "            plant.GetFrameByName(f\"{row['name']}_link\"),\n",
    "            X_WO\n",
    "        )\n",
    "    \n",
    "    plant.Finalize()\n",
    "\n",
    "    # Add visualization to see the geometries.\n",
    "    AddDefaultVisualization(builder=builder, meshcat=meshcat)\n",
    "    \n",
    "    # Build the diagram\n",
    "    diagram = builder.Build()\n",
    "    \n",
    "    return diagram\n"
   ]
  },
  {
   "cell_type": "markdown",
   "metadata": {},
   "source": [
    "## Action"
   ]
  },
  {
   "cell_type": "code",
   "execution_count": 7,
   "metadata": {},
   "outputs": [],
   "source": [
    "def initialize_simulation(diagram):\n",
    "    simulator = Simulator(diagram)\n",
    "    simulator.Initialize()\n",
    "    simulator.set_target_realtime_rate(1.)\n",
    "    return simulator\n",
    "\n",
    "def run_simulation(manifest, sim_time_step):\n",
    "    diagram = generate_scene_from_manifest(manifest, sim_time_step)\n",
    "    simulator = initialize_simulation(diagram)\n",
    "    meshcat.StartRecording()\n",
    "    finish_time = 0.1 if test_mode else 2.0\n",
    "    simulator.AdvanceTo(finish_time)\n",
    "    meshcat.PublishRecording()"
   ]
  },
  {
   "cell_type": "code",
   "execution_count": 9,
   "metadata": {},
   "outputs": [],
   "source": [
    "manifester = update_object_manifest(\"object_manifest_template.csv\", .5)\n",
    "replace_sdf_files(manifester)\n",
    "\n",
    "# Run the simulation with a small time step. Try gradually increasing it!\n",
    "run_simulation(manifester,sim_time_step=0.0001)"
   ]
  },
  {
   "cell_type": "markdown",
   "metadata": {},
   "source": [
    "[Visualization](http://localhost:7000)"
   ]
  },
  {
   "cell_type": "code",
   "execution_count": null,
   "metadata": {},
   "outputs": [],
   "source": []
  }
 ],
 "metadata": {
  "kernelspec": {
   "display_name": "impact",
   "language": "python",
   "name": "python3"
  },
  "language_info": {
   "codemirror_mode": {
    "name": "ipython",
    "version": 3
   },
   "file_extension": ".py",
   "mimetype": "text/x-python",
   "name": "python",
   "nbconvert_exporter": "python",
   "pygments_lexer": "ipython3",
   "version": "3.10.13"
  }
 },
 "nbformat": 4,
 "nbformat_minor": 2
}
